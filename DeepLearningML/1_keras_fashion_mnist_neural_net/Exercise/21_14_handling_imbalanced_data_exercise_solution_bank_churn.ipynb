{
 "cells": [
  {
   "cell_type": "code",
   "execution_count": 1,
   "source": [
    "%matplotlib inline \n",
    "import pandas as pd\n",
    "import tensorflow as tf\n",
    "from tensorflow import keras\n",
    "import matplotlib.pyplot as plt\n",
    "from sklearn.model_selection import train_test_split\n",
    "from sklearn.metrics import classification_report, confusion_matrix\n",
    "from sklearn.preprocessing import MinMaxScaler\n",
    "import numpy as np "
   ],
   "outputs": [],
   "metadata": {
    "ExecuteTime": {
     "end_time": "2021-09-25T14:01:43.361388Z",
     "start_time": "2021-09-25T14:01:41.002412Z"
    },
    "scrolled": false
   }
  },
  {
   "cell_type": "code",
   "execution_count": 2,
   "source": [
    "df = pd.read_csv(\"../Datasets/Churn_Modelling_21_14.csv\")\n",
    "df.shape"
   ],
   "outputs": [
    {
     "output_type": "execute_result",
     "data": {
      "text/plain": [
       "(10000, 14)"
      ]
     },
     "metadata": {},
     "execution_count": 2
    }
   ],
   "metadata": {
    "ExecuteTime": {
     "end_time": "2021-09-25T14:01:43.397326Z",
     "start_time": "2021-09-25T14:01:43.363656Z"
    },
    "scrolled": false
   }
  },
  {
   "cell_type": "code",
   "execution_count": 3,
   "source": [
    "df.columns"
   ],
   "outputs": [
    {
     "output_type": "execute_result",
     "data": {
      "text/plain": [
       "Index(['RowNumber', 'CustomerId', 'Surname', 'CreditScore', 'Geography',\n",
       "       'Gender', 'Age', 'Tenure', 'Balance', 'NumOfProducts', 'HasCrCard',\n",
       "       'IsActiveMember', 'EstimatedSalary', 'Exited'],\n",
       "      dtype='object')"
      ]
     },
     "metadata": {},
     "execution_count": 3
    }
   ],
   "metadata": {
    "ExecuteTime": {
     "end_time": "2021-09-25T14:01:43.404989Z",
     "start_time": "2021-09-25T14:01:43.400147Z"
    },
    "scrolled": false
   }
  },
  {
   "cell_type": "code",
   "execution_count": 4,
   "source": [
    "df.head()"
   ],
   "outputs": [
    {
     "output_type": "execute_result",
     "data": {
      "text/html": [
       "<div>\n",
       "<style scoped>\n",
       "    .dataframe tbody tr th:only-of-type {\n",
       "        vertical-align: middle;\n",
       "    }\n",
       "\n",
       "    .dataframe tbody tr th {\n",
       "        vertical-align: top;\n",
       "    }\n",
       "\n",
       "    .dataframe thead th {\n",
       "        text-align: right;\n",
       "    }\n",
       "</style>\n",
       "<table border=\"1\" class=\"dataframe\">\n",
       "  <thead>\n",
       "    <tr style=\"text-align: right;\">\n",
       "      <th></th>\n",
       "      <th>RowNumber</th>\n",
       "      <th>CustomerId</th>\n",
       "      <th>Surname</th>\n",
       "      <th>CreditScore</th>\n",
       "      <th>Geography</th>\n",
       "      <th>Gender</th>\n",
       "      <th>Age</th>\n",
       "      <th>Tenure</th>\n",
       "      <th>Balance</th>\n",
       "      <th>NumOfProducts</th>\n",
       "      <th>HasCrCard</th>\n",
       "      <th>IsActiveMember</th>\n",
       "      <th>EstimatedSalary</th>\n",
       "      <th>Exited</th>\n",
       "    </tr>\n",
       "  </thead>\n",
       "  <tbody>\n",
       "    <tr>\n",
       "      <th>0</th>\n",
       "      <td>1</td>\n",
       "      <td>15634602</td>\n",
       "      <td>Hargrave</td>\n",
       "      <td>619</td>\n",
       "      <td>France</td>\n",
       "      <td>Female</td>\n",
       "      <td>42</td>\n",
       "      <td>2</td>\n",
       "      <td>0.00</td>\n",
       "      <td>1</td>\n",
       "      <td>1</td>\n",
       "      <td>1</td>\n",
       "      <td>101348.88</td>\n",
       "      <td>1</td>\n",
       "    </tr>\n",
       "    <tr>\n",
       "      <th>1</th>\n",
       "      <td>2</td>\n",
       "      <td>15647311</td>\n",
       "      <td>Hill</td>\n",
       "      <td>608</td>\n",
       "      <td>Spain</td>\n",
       "      <td>Female</td>\n",
       "      <td>41</td>\n",
       "      <td>1</td>\n",
       "      <td>83807.86</td>\n",
       "      <td>1</td>\n",
       "      <td>0</td>\n",
       "      <td>1</td>\n",
       "      <td>112542.58</td>\n",
       "      <td>0</td>\n",
       "    </tr>\n",
       "    <tr>\n",
       "      <th>2</th>\n",
       "      <td>3</td>\n",
       "      <td>15619304</td>\n",
       "      <td>Onio</td>\n",
       "      <td>502</td>\n",
       "      <td>France</td>\n",
       "      <td>Female</td>\n",
       "      <td>42</td>\n",
       "      <td>8</td>\n",
       "      <td>159660.80</td>\n",
       "      <td>3</td>\n",
       "      <td>1</td>\n",
       "      <td>0</td>\n",
       "      <td>113931.57</td>\n",
       "      <td>1</td>\n",
       "    </tr>\n",
       "    <tr>\n",
       "      <th>3</th>\n",
       "      <td>4</td>\n",
       "      <td>15701354</td>\n",
       "      <td>Boni</td>\n",
       "      <td>699</td>\n",
       "      <td>France</td>\n",
       "      <td>Female</td>\n",
       "      <td>39</td>\n",
       "      <td>1</td>\n",
       "      <td>0.00</td>\n",
       "      <td>2</td>\n",
       "      <td>0</td>\n",
       "      <td>0</td>\n",
       "      <td>93826.63</td>\n",
       "      <td>0</td>\n",
       "    </tr>\n",
       "    <tr>\n",
       "      <th>4</th>\n",
       "      <td>5</td>\n",
       "      <td>15737888</td>\n",
       "      <td>Mitchell</td>\n",
       "      <td>850</td>\n",
       "      <td>Spain</td>\n",
       "      <td>Female</td>\n",
       "      <td>43</td>\n",
       "      <td>2</td>\n",
       "      <td>125510.82</td>\n",
       "      <td>1</td>\n",
       "      <td>1</td>\n",
       "      <td>1</td>\n",
       "      <td>79084.10</td>\n",
       "      <td>0</td>\n",
       "    </tr>\n",
       "  </tbody>\n",
       "</table>\n",
       "</div>"
      ],
      "text/plain": [
       "   RowNumber  CustomerId   Surname  CreditScore Geography  Gender  Age  \\\n",
       "0          1    15634602  Hargrave          619    France  Female   42   \n",
       "1          2    15647311      Hill          608     Spain  Female   41   \n",
       "2          3    15619304      Onio          502    France  Female   42   \n",
       "3          4    15701354      Boni          699    France  Female   39   \n",
       "4          5    15737888  Mitchell          850     Spain  Female   43   \n",
       "\n",
       "   Tenure    Balance  NumOfProducts  HasCrCard  IsActiveMember  \\\n",
       "0       2       0.00              1          1               1   \n",
       "1       1   83807.86              1          0               1   \n",
       "2       8  159660.80              3          1               0   \n",
       "3       1       0.00              2          0               0   \n",
       "4       2  125510.82              1          1               1   \n",
       "\n",
       "   EstimatedSalary  Exited  \n",
       "0        101348.88       1  \n",
       "1        112542.58       0  \n",
       "2        113931.57       1  \n",
       "3         93826.63       0  \n",
       "4         79084.10       0  "
      ]
     },
     "metadata": {},
     "execution_count": 4
    }
   ],
   "metadata": {
    "ExecuteTime": {
     "end_time": "2021-09-25T14:01:43.435388Z",
     "start_time": "2021-09-25T14:01:43.407267Z"
    },
    "scrolled": false
   }
  },
  {
   "cell_type": "code",
   "execution_count": 5,
   "source": [
    "df_clean = df.drop(['CustomerId','Surname'], axis='columns')\n",
    "df_clean.columns"
   ],
   "outputs": [
    {
     "output_type": "execute_result",
     "data": {
      "text/plain": [
       "Index(['RowNumber', 'CreditScore', 'Geography', 'Gender', 'Age', 'Tenure',\n",
       "       'Balance', 'NumOfProducts', 'HasCrCard', 'IsActiveMember',\n",
       "       'EstimatedSalary', 'Exited'],\n",
       "      dtype='object')"
      ]
     },
     "metadata": {},
     "execution_count": 5
    }
   ],
   "metadata": {
    "ExecuteTime": {
     "end_time": "2021-09-25T14:01:43.449089Z",
     "start_time": "2021-09-25T14:01:43.438255Z"
    },
    "scrolled": false
   }
  },
  {
   "cell_type": "code",
   "execution_count": 6,
   "source": [
    "df_clean.dtypes"
   ],
   "outputs": [
    {
     "output_type": "execute_result",
     "data": {
      "text/plain": [
       "RowNumber            int64\n",
       "CreditScore          int64\n",
       "Geography           object\n",
       "Gender              object\n",
       "Age                  int64\n",
       "Tenure               int64\n",
       "Balance            float64\n",
       "NumOfProducts        int64\n",
       "HasCrCard            int64\n",
       "IsActiveMember       int64\n",
       "EstimatedSalary    float64\n",
       "Exited               int64\n",
       "dtype: object"
      ]
     },
     "metadata": {},
     "execution_count": 6
    }
   ],
   "metadata": {
    "ExecuteTime": {
     "end_time": "2021-09-25T14:01:43.464712Z",
     "start_time": "2021-09-25T14:01:43.451922Z"
    },
    "scrolled": false
   }
  },
  {
   "cell_type": "code",
   "execution_count": 7,
   "source": [
    "df_clean= pd.get_dummies(df_clean, ['Geography','Gender'],drop_first=True)\n",
    "df_clean.columns"
   ],
   "outputs": [
    {
     "output_type": "execute_result",
     "data": {
      "text/plain": [
       "Index(['RowNumber', 'CreditScore', 'Age', 'Tenure', 'Balance', 'NumOfProducts',\n",
       "       'HasCrCard', 'IsActiveMember', 'EstimatedSalary', 'Exited',\n",
       "       'Geography_Germany', 'Geography_Spain', 'Gender_Male'],\n",
       "      dtype='object')"
      ]
     },
     "metadata": {},
     "execution_count": 7
    }
   ],
   "metadata": {
    "ExecuteTime": {
     "end_time": "2021-09-25T14:01:43.492384Z",
     "start_time": "2021-09-25T14:01:43.467127Z"
    },
    "scrolled": false
   }
  },
  {
   "cell_type": "code",
   "execution_count": 8,
   "source": [
    "df_clean.head()"
   ],
   "outputs": [
    {
     "output_type": "execute_result",
     "data": {
      "text/html": [
       "<div>\n",
       "<style scoped>\n",
       "    .dataframe tbody tr th:only-of-type {\n",
       "        vertical-align: middle;\n",
       "    }\n",
       "\n",
       "    .dataframe tbody tr th {\n",
       "        vertical-align: top;\n",
       "    }\n",
       "\n",
       "    .dataframe thead th {\n",
       "        text-align: right;\n",
       "    }\n",
       "</style>\n",
       "<table border=\"1\" class=\"dataframe\">\n",
       "  <thead>\n",
       "    <tr style=\"text-align: right;\">\n",
       "      <th></th>\n",
       "      <th>RowNumber</th>\n",
       "      <th>CreditScore</th>\n",
       "      <th>Age</th>\n",
       "      <th>Tenure</th>\n",
       "      <th>Balance</th>\n",
       "      <th>NumOfProducts</th>\n",
       "      <th>HasCrCard</th>\n",
       "      <th>IsActiveMember</th>\n",
       "      <th>EstimatedSalary</th>\n",
       "      <th>Exited</th>\n",
       "      <th>Geography_Germany</th>\n",
       "      <th>Geography_Spain</th>\n",
       "      <th>Gender_Male</th>\n",
       "    </tr>\n",
       "  </thead>\n",
       "  <tbody>\n",
       "    <tr>\n",
       "      <th>0</th>\n",
       "      <td>1</td>\n",
       "      <td>619</td>\n",
       "      <td>42</td>\n",
       "      <td>2</td>\n",
       "      <td>0.00</td>\n",
       "      <td>1</td>\n",
       "      <td>1</td>\n",
       "      <td>1</td>\n",
       "      <td>101348.88</td>\n",
       "      <td>1</td>\n",
       "      <td>0</td>\n",
       "      <td>0</td>\n",
       "      <td>0</td>\n",
       "    </tr>\n",
       "    <tr>\n",
       "      <th>1</th>\n",
       "      <td>2</td>\n",
       "      <td>608</td>\n",
       "      <td>41</td>\n",
       "      <td>1</td>\n",
       "      <td>83807.86</td>\n",
       "      <td>1</td>\n",
       "      <td>0</td>\n",
       "      <td>1</td>\n",
       "      <td>112542.58</td>\n",
       "      <td>0</td>\n",
       "      <td>0</td>\n",
       "      <td>1</td>\n",
       "      <td>0</td>\n",
       "    </tr>\n",
       "    <tr>\n",
       "      <th>2</th>\n",
       "      <td>3</td>\n",
       "      <td>502</td>\n",
       "      <td>42</td>\n",
       "      <td>8</td>\n",
       "      <td>159660.80</td>\n",
       "      <td>3</td>\n",
       "      <td>1</td>\n",
       "      <td>0</td>\n",
       "      <td>113931.57</td>\n",
       "      <td>1</td>\n",
       "      <td>0</td>\n",
       "      <td>0</td>\n",
       "      <td>0</td>\n",
       "    </tr>\n",
       "    <tr>\n",
       "      <th>3</th>\n",
       "      <td>4</td>\n",
       "      <td>699</td>\n",
       "      <td>39</td>\n",
       "      <td>1</td>\n",
       "      <td>0.00</td>\n",
       "      <td>2</td>\n",
       "      <td>0</td>\n",
       "      <td>0</td>\n",
       "      <td>93826.63</td>\n",
       "      <td>0</td>\n",
       "      <td>0</td>\n",
       "      <td>0</td>\n",
       "      <td>0</td>\n",
       "    </tr>\n",
       "    <tr>\n",
       "      <th>4</th>\n",
       "      <td>5</td>\n",
       "      <td>850</td>\n",
       "      <td>43</td>\n",
       "      <td>2</td>\n",
       "      <td>125510.82</td>\n",
       "      <td>1</td>\n",
       "      <td>1</td>\n",
       "      <td>1</td>\n",
       "      <td>79084.10</td>\n",
       "      <td>0</td>\n",
       "      <td>0</td>\n",
       "      <td>1</td>\n",
       "      <td>0</td>\n",
       "    </tr>\n",
       "  </tbody>\n",
       "</table>\n",
       "</div>"
      ],
      "text/plain": [
       "   RowNumber  CreditScore  Age  Tenure    Balance  NumOfProducts  HasCrCard  \\\n",
       "0          1          619   42       2       0.00              1          1   \n",
       "1          2          608   41       1   83807.86              1          0   \n",
       "2          3          502   42       8  159660.80              3          1   \n",
       "3          4          699   39       1       0.00              2          0   \n",
       "4          5          850   43       2  125510.82              1          1   \n",
       "\n",
       "   IsActiveMember  EstimatedSalary  Exited  Geography_Germany  \\\n",
       "0               1        101348.88       1                  0   \n",
       "1               1        112542.58       0                  0   \n",
       "2               0        113931.57       1                  0   \n",
       "3               0         93826.63       0                  0   \n",
       "4               1         79084.10       0                  0   \n",
       "\n",
       "   Geography_Spain  Gender_Male  \n",
       "0                0            0  \n",
       "1                1            0  \n",
       "2                0            0  \n",
       "3                0            0  \n",
       "4                1            0  "
      ]
     },
     "metadata": {},
     "execution_count": 8
    }
   ],
   "metadata": {
    "ExecuteTime": {
     "end_time": "2021-09-25T14:01:43.514110Z",
     "start_time": "2021-09-25T14:01:43.497110Z"
    },
    "scrolled": false
   }
  },
  {
   "cell_type": "code",
   "execution_count": 9,
   "source": [
    "scalar = MinMaxScaler()\n",
    "df_clean[['CreditScore','Age','Tenure','Balance','NumOfProducts','EstimatedSalary']] = scalar.fit_transform(df_clean[['CreditScore','Age','Tenure','Balance','NumOfProducts','EstimatedSalary']])"
   ],
   "outputs": [],
   "metadata": {
    "ExecuteTime": {
     "end_time": "2021-09-25T14:01:43.546178Z",
     "start_time": "2021-09-25T14:01:43.517264Z"
    },
    "scrolled": false
   }
  },
  {
   "cell_type": "code",
   "execution_count": 10,
   "source": [
    "df_clean.head()"
   ],
   "outputs": [
    {
     "output_type": "execute_result",
     "data": {
      "text/html": [
       "<div>\n",
       "<style scoped>\n",
       "    .dataframe tbody tr th:only-of-type {\n",
       "        vertical-align: middle;\n",
       "    }\n",
       "\n",
       "    .dataframe tbody tr th {\n",
       "        vertical-align: top;\n",
       "    }\n",
       "\n",
       "    .dataframe thead th {\n",
       "        text-align: right;\n",
       "    }\n",
       "</style>\n",
       "<table border=\"1\" class=\"dataframe\">\n",
       "  <thead>\n",
       "    <tr style=\"text-align: right;\">\n",
       "      <th></th>\n",
       "      <th>RowNumber</th>\n",
       "      <th>CreditScore</th>\n",
       "      <th>Age</th>\n",
       "      <th>Tenure</th>\n",
       "      <th>Balance</th>\n",
       "      <th>NumOfProducts</th>\n",
       "      <th>HasCrCard</th>\n",
       "      <th>IsActiveMember</th>\n",
       "      <th>EstimatedSalary</th>\n",
       "      <th>Exited</th>\n",
       "      <th>Geography_Germany</th>\n",
       "      <th>Geography_Spain</th>\n",
       "      <th>Gender_Male</th>\n",
       "    </tr>\n",
       "  </thead>\n",
       "  <tbody>\n",
       "    <tr>\n",
       "      <th>0</th>\n",
       "      <td>1</td>\n",
       "      <td>0.538</td>\n",
       "      <td>0.324324</td>\n",
       "      <td>0.2</td>\n",
       "      <td>0.000000</td>\n",
       "      <td>0.000000</td>\n",
       "      <td>1</td>\n",
       "      <td>1</td>\n",
       "      <td>0.506735</td>\n",
       "      <td>1</td>\n",
       "      <td>0</td>\n",
       "      <td>0</td>\n",
       "      <td>0</td>\n",
       "    </tr>\n",
       "    <tr>\n",
       "      <th>1</th>\n",
       "      <td>2</td>\n",
       "      <td>0.516</td>\n",
       "      <td>0.310811</td>\n",
       "      <td>0.1</td>\n",
       "      <td>0.334031</td>\n",
       "      <td>0.000000</td>\n",
       "      <td>0</td>\n",
       "      <td>1</td>\n",
       "      <td>0.562709</td>\n",
       "      <td>0</td>\n",
       "      <td>0</td>\n",
       "      <td>1</td>\n",
       "      <td>0</td>\n",
       "    </tr>\n",
       "    <tr>\n",
       "      <th>2</th>\n",
       "      <td>3</td>\n",
       "      <td>0.304</td>\n",
       "      <td>0.324324</td>\n",
       "      <td>0.8</td>\n",
       "      <td>0.636357</td>\n",
       "      <td>0.666667</td>\n",
       "      <td>1</td>\n",
       "      <td>0</td>\n",
       "      <td>0.569654</td>\n",
       "      <td>1</td>\n",
       "      <td>0</td>\n",
       "      <td>0</td>\n",
       "      <td>0</td>\n",
       "    </tr>\n",
       "    <tr>\n",
       "      <th>3</th>\n",
       "      <td>4</td>\n",
       "      <td>0.698</td>\n",
       "      <td>0.283784</td>\n",
       "      <td>0.1</td>\n",
       "      <td>0.000000</td>\n",
       "      <td>0.333333</td>\n",
       "      <td>0</td>\n",
       "      <td>0</td>\n",
       "      <td>0.469120</td>\n",
       "      <td>0</td>\n",
       "      <td>0</td>\n",
       "      <td>0</td>\n",
       "      <td>0</td>\n",
       "    </tr>\n",
       "    <tr>\n",
       "      <th>4</th>\n",
       "      <td>5</td>\n",
       "      <td>1.000</td>\n",
       "      <td>0.337838</td>\n",
       "      <td>0.2</td>\n",
       "      <td>0.500246</td>\n",
       "      <td>0.000000</td>\n",
       "      <td>1</td>\n",
       "      <td>1</td>\n",
       "      <td>0.395400</td>\n",
       "      <td>0</td>\n",
       "      <td>0</td>\n",
       "      <td>1</td>\n",
       "      <td>0</td>\n",
       "    </tr>\n",
       "  </tbody>\n",
       "</table>\n",
       "</div>"
      ],
      "text/plain": [
       "   RowNumber  CreditScore       Age  Tenure   Balance  NumOfProducts  \\\n",
       "0          1        0.538  0.324324     0.2  0.000000       0.000000   \n",
       "1          2        0.516  0.310811     0.1  0.334031       0.000000   \n",
       "2          3        0.304  0.324324     0.8  0.636357       0.666667   \n",
       "3          4        0.698  0.283784     0.1  0.000000       0.333333   \n",
       "4          5        1.000  0.337838     0.2  0.500246       0.000000   \n",
       "\n",
       "   HasCrCard  IsActiveMember  EstimatedSalary  Exited  Geography_Germany  \\\n",
       "0          1               1         0.506735       1                  0   \n",
       "1          0               1         0.562709       0                  0   \n",
       "2          1               0         0.569654       1                  0   \n",
       "3          0               0         0.469120       0                  0   \n",
       "4          1               1         0.395400       0                  0   \n",
       "\n",
       "   Geography_Spain  Gender_Male  \n",
       "0                0            0  \n",
       "1                1            0  \n",
       "2                0            0  \n",
       "3                0            0  \n",
       "4                1            0  "
      ]
     },
     "metadata": {},
     "execution_count": 10
    }
   ],
   "metadata": {
    "ExecuteTime": {
     "end_time": "2021-09-25T14:01:43.565478Z",
     "start_time": "2021-09-25T14:01:43.548706Z"
    },
    "scrolled": false
   }
  },
  {
   "cell_type": "code",
   "execution_count": 11,
   "source": [
    "def ANN(X_train,y_train,X_test,y_test,loss,weights, epochs):\n",
    "    model = keras.Sequential ([ \n",
    "        keras.layers.Dense(12, input_dim=12,activation='relu' ),\n",
    "        keras.layers.Dense(8,activation='relu'),\n",
    "        keras.layers.Dense(1, activation='sigmoid')\n",
    "     ])\n",
    "\n",
    "    model.compile(optimizer = 'adam', loss=loss, metrics=['accuracy'])\n",
    "\n",
    "    if weights == -1:\n",
    "        model.fit(X_train,y_train,epochs=epochs)\n",
    "    else:\n",
    "        model.fit(X_train,y_train, class_weight = weights, epochs=epochs)\n",
    "    \n",
    "    print(model.evaluate(X_test,y_test))\n",
    "\n",
    "    y_preds = model.predict(X_test)\n",
    "    y_preds = np.round(y_preds)\n",
    "\n",
    "    print(f'classification report: \\n ', classification_report(y_test, y_preds))\n",
    "\n",
    "    return y_preds"
   ],
   "outputs": [],
   "metadata": {
    "ExecuteTime": {
     "end_time": "2021-09-25T14:01:43.575460Z",
     "start_time": "2021-09-25T14:01:43.568018Z"
    },
    "scrolled": false
   }
  },
  {
   "cell_type": "markdown",
   "source": [
    "# Step #1 create a input dataset to be later used for undersampling, oversampling .."
   ],
   "metadata": {}
  },
  {
   "cell_type": "code",
   "execution_count": 12,
   "source": [
    "# store churn variation counts in two variables \n",
    "count_exited_0, count_exited_1 = df_clean.Exited.value_counts()\n",
    "\n",
    "count_exited_0 , count_exited_1"
   ],
   "outputs": [
    {
     "output_type": "execute_result",
     "data": {
      "text/plain": [
       "(7963, 2037)"
      ]
     },
     "metadata": {},
     "execution_count": 12
    }
   ],
   "metadata": {
    "ExecuteTime": {
     "end_time": "2021-09-25T14:01:43.593882Z",
     "start_time": "2021-09-25T14:01:43.577959Z"
    },
    "scrolled": false
   }
  },
  {
   "cell_type": "code",
   "execution_count": 13,
   "source": [
    "df_exited_0 = df_clean[df_clean.Exited==0]\n",
    "df_exited_1 = df_clean[df_clean.Exited==1]\n",
    "\n",
    "df_exited_0.shape , df_exited_1.shape"
   ],
   "outputs": [
    {
     "output_type": "execute_result",
     "data": {
      "text/plain": [
       "((7963, 13), (2037, 13))"
      ]
     },
     "metadata": {},
     "execution_count": 13
    }
   ],
   "metadata": {
    "ExecuteTime": {
     "end_time": "2021-09-25T14:01:43.611502Z",
     "start_time": "2021-09-25T14:01:43.595907Z"
    },
    "scrolled": false
   }
  },
  {
   "cell_type": "code",
   "execution_count": 14,
   "source": [
    "X = df_clean.drop(['Exited'], axis='columns')\n",
    "y = df_clean.Exited\n",
    "X.shape, y.shape"
   ],
   "outputs": [
    {
     "output_type": "execute_result",
     "data": {
      "text/plain": [
       "((10000, 12), (10000,))"
      ]
     },
     "metadata": {},
     "execution_count": 14
    }
   ],
   "metadata": {
    "ExecuteTime": {
     "end_time": "2021-09-25T14:01:43.625640Z",
     "start_time": "2021-09-25T14:01:43.613836Z"
    },
    "scrolled": false
   }
  },
  {
   "cell_type": "markdown",
   "source": [
    "# Create DS for standard model"
   ],
   "metadata": {}
  },
  {
   "cell_type": "code",
   "execution_count": 15,
   "source": [
    "X_train, X_test, y_train, y_test = train_test_split(X,y,test_size=0.2, random_state=15,stratify=y)\n",
    "X_train.shape,X_test.shape"
   ],
   "outputs": [
    {
     "output_type": "execute_result",
     "data": {
      "text/plain": [
       "((8000, 12), (2000, 12))"
      ]
     },
     "metadata": {},
     "execution_count": 15
    }
   ],
   "metadata": {
    "ExecuteTime": {
     "end_time": "2021-09-25T14:01:43.654883Z",
     "start_time": "2021-09-25T14:01:43.627519Z"
    },
    "scrolled": false
   }
  },
  {
   "cell_type": "code",
   "execution_count": 16,
   "source": [
    "y_train.value_counts() , y_test.value_counts()"
   ],
   "outputs": [
    {
     "output_type": "execute_result",
     "data": {
      "text/plain": [
       "(0    6370\n",
       " 1    1630\n",
       " Name: Exited, dtype: int64,\n",
       " 0    1593\n",
       " 1     407\n",
       " Name: Exited, dtype: int64)"
      ]
     },
     "metadata": {},
     "execution_count": 16
    }
   ],
   "metadata": {
    "ExecuteTime": {
     "end_time": "2021-09-25T14:01:43.668292Z",
     "start_time": "2021-09-25T14:01:43.657562Z"
    },
    "scrolled": false
   }
  },
  {
   "cell_type": "code",
   "execution_count": 17,
   "source": [
    "y_pred = ANN(X_train,y_train,X_test,y_test,'binary_crossentropy',-1,20)\n"
   ],
   "outputs": [
    {
     "output_type": "stream",
     "name": "stdout",
     "text": [
      "Epoch 1/20\n",
      "250/250 [==============================] - 0s 741us/step - loss: 0.7798 - accuracy: 0.6963\n",
      "Epoch 2/20\n",
      "250/250 [==============================] - 0s 744us/step - loss: 0.8742 - accuracy: 0.7179\n",
      "Epoch 3/20\n",
      "250/250 [==============================] - 0s 771us/step - loss: 0.6694 - accuracy: 0.7544\n",
      "Epoch 4/20\n",
      "250/250 [==============================] - 0s 763us/step - loss: 0.6541 - accuracy: 0.7524\n",
      "Epoch 5/20\n",
      "250/250 [==============================] - 0s 768us/step - loss: 0.8064 - accuracy: 0.7372\n",
      "Epoch 6/20\n",
      "250/250 [==============================] - 0s 722us/step - loss: 0.7485 - accuracy: 0.7431\n",
      "Epoch 7/20\n",
      "250/250 [==============================] - 0s 719us/step - loss: 0.7307 - accuracy: 0.7491\n",
      "Epoch 8/20\n",
      "250/250 [==============================] - 0s 748us/step - loss: 0.8371 - accuracy: 0.7339\n",
      "Epoch 9/20\n",
      "250/250 [==============================] - 0s 748us/step - loss: 0.6303 - accuracy: 0.7623\n",
      "Epoch 10/20\n",
      "250/250 [==============================] - 0s 703us/step - loss: 0.7985 - accuracy: 0.7427\n",
      "Epoch 11/20\n",
      "250/250 [==============================] - 0s 741us/step - loss: 0.6583 - accuracy: 0.7520\n",
      "Epoch 12/20\n",
      "250/250 [==============================] - 0s 778us/step - loss: 0.6745 - accuracy: 0.7584\n",
      "Epoch 13/20\n",
      "250/250 [==============================] - 0s 770us/step - loss: 0.8191 - accuracy: 0.7516\n",
      "Epoch 14/20\n",
      "250/250 [==============================] - 0s 735us/step - loss: 0.6475 - accuracy: 0.7617\n",
      "Epoch 15/20\n",
      "250/250 [==============================] - 0s 745us/step - loss: 0.7060 - accuracy: 0.7523\n",
      "Epoch 16/20\n",
      "250/250 [==============================] - 0s 831us/step - loss: 0.6450 - accuracy: 0.7619\n",
      "Epoch 17/20\n",
      "250/250 [==============================] - 0s 1ms/step - loss: 0.6641 - accuracy: 0.7564\n",
      "Epoch 18/20\n",
      "250/250 [==============================] - 0s 1ms/step - loss: 0.6840 - accuracy: 0.7596\n",
      "Epoch 19/20\n",
      "250/250 [==============================] - 0s 1ms/step - loss: 0.6957 - accuracy: 0.7530\n",
      "Epoch 20/20\n",
      "250/250 [==============================] - 0s 1ms/step - loss: 0.6402 - accuracy: 0.7584\n",
      "63/63 [==============================] - 0s 1ms/step - loss: 0.4736 - accuracy: 0.7880\n",
      "[0.47357210516929626, 0.7879999876022339]\n",
      "classification report: \n",
      "                precision    recall  f1-score   support\n",
      "\n",
      "           0       0.81      0.96      0.88      1593\n",
      "           1       0.42      0.12      0.18       407\n",
      "\n",
      "    accuracy                           0.79      2000\n",
      "   macro avg       0.62      0.54      0.53      2000\n",
      "weighted avg       0.73      0.79      0.74      2000\n",
      "\n"
     ]
    }
   ],
   "metadata": {
    "ExecuteTime": {
     "end_time": "2021-09-25T14:01:48.821172Z",
     "start_time": "2021-09-25T14:01:43.670750Z"
    },
    "scrolled": false
   }
  },
  {
   "cell_type": "markdown",
   "source": [
    "# Method 1: Model for undersampling"
   ],
   "metadata": {}
  },
  {
   "cell_type": "markdown",
   "source": [
    "## Exited customer are less in numbers in DS vs Customers still active - undersampling "
   ],
   "metadata": {}
  },
  {
   "cell_type": "code",
   "execution_count": 18,
   "source": [
    "df_consol = X_train.copy()\n",
    "df_consol.shape"
   ],
   "outputs": [
    {
     "output_type": "execute_result",
     "data": {
      "text/plain": [
       "(8000, 12)"
      ]
     },
     "metadata": {},
     "execution_count": 18
    }
   ],
   "metadata": {
    "ExecuteTime": {
     "end_time": "2021-09-25T14:01:48.827788Z",
     "start_time": "2021-09-25T14:01:48.823087Z"
    },
    "scrolled": false
   }
  },
  {
   "cell_type": "code",
   "execution_count": 19,
   "source": [
    "df_consol['Exited'] = y_train\n",
    "df_consol.shape"
   ],
   "outputs": [
    {
     "output_type": "execute_result",
     "data": {
      "text/plain": [
       "(8000, 13)"
      ]
     },
     "metadata": {},
     "execution_count": 19
    }
   ],
   "metadata": {
    "ExecuteTime": {
     "end_time": "2021-09-25T14:01:48.842744Z",
     "start_time": "2021-09-25T14:01:48.829756Z"
    },
    "scrolled": false
   }
  },
  {
   "cell_type": "code",
   "execution_count": 20,
   "source": [
    "count_exited_0 = df_consol[df_consol.Exited==0]\n",
    "count_exited_1 = df_consol[df_consol.Exited==1]\n",
    "count_exited_0.Exited.value_counts(), count_exited_1.Exited.value_counts()"
   ],
   "outputs": [
    {
     "output_type": "execute_result",
     "data": {
      "text/plain": [
       "(0    6370\n",
       " Name: Exited, dtype: int64,\n",
       " 1    1630\n",
       " Name: Exited, dtype: int64)"
      ]
     },
     "metadata": {},
     "execution_count": 20
    }
   ],
   "metadata": {
    "ExecuteTime": {
     "end_time": "2021-09-25T14:01:48.864338Z",
     "start_time": "2021-09-25T14:01:48.844823Z"
    },
    "scrolled": false
   }
  },
  {
   "cell_type": "code",
   "execution_count": 21,
   "source": [
    "count_exited_0_under = count_exited_0.sample(1630)\n",
    "count_exited_0_under.shape"
   ],
   "outputs": [
    {
     "output_type": "execute_result",
     "data": {
      "text/plain": [
       "(1630, 13)"
      ]
     },
     "metadata": {},
     "execution_count": 21
    }
   ],
   "metadata": {
    "ExecuteTime": {
     "end_time": "2021-09-25T14:01:48.877638Z",
     "start_time": "2021-09-25T14:01:48.866940Z"
    },
    "scrolled": false
   }
  },
  {
   "cell_type": "code",
   "execution_count": 22,
   "source": [
    "df_under_input = pd.concat([count_exited_0_under,count_exited_1],axis=0)\n",
    "df_under_input.shape"
   ],
   "outputs": [
    {
     "output_type": "execute_result",
     "data": {
      "text/plain": [
       "(3260, 13)"
      ]
     },
     "metadata": {},
     "execution_count": 22
    }
   ],
   "metadata": {
    "ExecuteTime": {
     "end_time": "2021-09-25T14:01:48.907025Z",
     "start_time": "2021-09-25T14:01:48.891735Z"
    },
    "scrolled": false
   }
  },
  {
   "cell_type": "code",
   "execution_count": 23,
   "source": [
    "X= df_under_input.drop(['Exited'],axis='columns')\n",
    "y=df_under_input.Exited\n",
    "X.shape, y.shape"
   ],
   "outputs": [
    {
     "output_type": "execute_result",
     "data": {
      "text/plain": [
       "((3260, 12), (3260,))"
      ]
     },
     "metadata": {},
     "execution_count": 23
    }
   ],
   "metadata": {
    "ExecuteTime": {
     "end_time": "2021-09-25T14:01:48.928681Z",
     "start_time": "2021-09-25T14:01:48.918253Z"
    },
    "scrolled": false
   }
  },
  {
   "cell_type": "code",
   "execution_count": 24,
   "source": [
    "y_pred_under =  ANN(X,y,X_test,y_test,'binary_crossentropy',-1,20)"
   ],
   "outputs": [
    {
     "output_type": "stream",
     "name": "stdout",
     "text": [
      "Epoch 1/20\n",
      "102/102 [==============================] - 0s 932us/step - loss: 214.6073 - accuracy: 0.5058\n",
      "Epoch 2/20\n",
      "102/102 [==============================] - 0s 898us/step - loss: 1.2712 - accuracy: 0.5135\n",
      "Epoch 3/20\n",
      "102/102 [==============================] - 0s 1ms/step - loss: 0.7889 - accuracy: 0.5049\n",
      "Epoch 4/20\n",
      "102/102 [==============================] - 0s 1ms/step - loss: 0.7319 - accuracy: 0.5126\n",
      "Epoch 5/20\n",
      "102/102 [==============================] - 0s 1ms/step - loss: 0.7172 - accuracy: 0.5298\n",
      "Epoch 6/20\n",
      "102/102 [==============================] - 0s 988us/step - loss: 0.7589 - accuracy: 0.5393\n",
      "Epoch 7/20\n",
      "102/102 [==============================] - 0s 1ms/step - loss: 0.7443 - accuracy: 0.5123\n",
      "Epoch 8/20\n",
      "102/102 [==============================] - 0s 1ms/step - loss: 0.8563 - accuracy: 0.5279\n",
      "Epoch 9/20\n",
      "102/102 [==============================] - 0s 893us/step - loss: 0.8140 - accuracy: 0.5273\n",
      "Epoch 10/20\n",
      "102/102 [==============================] - 0s 1ms/step - loss: 0.7714 - accuracy: 0.5380\n",
      "Epoch 11/20\n",
      "102/102 [==============================] - 0s 886us/step - loss: 0.8387 - accuracy: 0.5304\n",
      "Epoch 12/20\n",
      "102/102 [==============================] - 0s 1ms/step - loss: 0.8518 - accuracy: 0.5242\n",
      "Epoch 13/20\n",
      "102/102 [==============================] - 0s 1ms/step - loss: 1.0200 - accuracy: 0.5264\n",
      "Epoch 14/20\n",
      "102/102 [==============================] - 0s 1ms/step - loss: 0.8506 - accuracy: 0.5328\n",
      "Epoch 15/20\n",
      "102/102 [==============================] - 0s 1ms/step - loss: 0.8827 - accuracy: 0.5454\n",
      "Epoch 16/20\n",
      "102/102 [==============================] - 0s 925us/step - loss: 0.7418 - accuracy: 0.5515\n",
      "Epoch 17/20\n",
      "102/102 [==============================] - 0s 889us/step - loss: 0.7994 - accuracy: 0.5681\n",
      "Epoch 18/20\n",
      "102/102 [==============================] - 0s 845us/step - loss: 0.8543 - accuracy: 0.5525\n",
      "Epoch 19/20\n",
      "102/102 [==============================] - 0s 978us/step - loss: 0.8372 - accuracy: 0.5512\n",
      "Epoch 20/20\n",
      "102/102 [==============================] - 0s 1ms/step - loss: 0.7680 - accuracy: 0.5620\n",
      "63/63 [==============================] - 0s 756us/step - loss: 0.5451 - accuracy: 0.7630\n",
      "[0.5451475381851196, 0.7630000114440918]\n",
      "classification report: \n",
      "                precision    recall  f1-score   support\n",
      "\n",
      "           0       0.81      0.93      0.86      1593\n",
      "           1       0.30      0.12      0.17       407\n",
      "\n",
      "    accuracy                           0.76      2000\n",
      "   macro avg       0.55      0.52      0.52      2000\n",
      "weighted avg       0.70      0.76      0.72      2000\n",
      "\n"
     ]
    }
   ],
   "metadata": {
    "ExecuteTime": {
     "end_time": "2021-09-25T14:01:52.005718Z",
     "start_time": "2021-09-25T14:01:48.934814Z"
    },
    "scrolled": false
   }
  },
  {
   "cell_type": "markdown",
   "source": [
    "# Method 2: Model for Over Sampling"
   ],
   "metadata": {}
  },
  {
   "cell_type": "markdown",
   "source": [
    "## Bump up the exited count to 6370"
   ],
   "metadata": {}
  },
  {
   "cell_type": "code",
   "execution_count": 25,
   "source": [
    "count_exited_1_over = count_exited_1.sample(6370,replace=True)\n",
    "count_exited_1_over.shape"
   ],
   "outputs": [
    {
     "output_type": "execute_result",
     "data": {
      "text/plain": [
       "(6370, 13)"
      ]
     },
     "metadata": {},
     "execution_count": 25
    }
   ],
   "metadata": {
    "ExecuteTime": {
     "end_time": "2021-09-25T14:01:52.015611Z",
     "start_time": "2021-09-25T14:01:52.008397Z"
    },
    "scrolled": false
   }
  },
  {
   "cell_type": "code",
   "execution_count": 26,
   "source": [
    "count_exited_1_over.Exited.value_counts()"
   ],
   "outputs": [
    {
     "output_type": "execute_result",
     "data": {
      "text/plain": [
       "1    6370\n",
       "Name: Exited, dtype: int64"
      ]
     },
     "metadata": {},
     "execution_count": 26
    }
   ],
   "metadata": {
    "ExecuteTime": {
     "end_time": "2021-09-25T14:01:52.038701Z",
     "start_time": "2021-09-25T14:01:52.017787Z"
    },
    "scrolled": true
   }
  },
  {
   "cell_type": "code",
   "execution_count": 27,
   "source": [
    "df_over_input = pd.concat([count_exited_1_over,count_exited_0],axis=0)\n",
    "df_over_input.shape"
   ],
   "outputs": [
    {
     "output_type": "execute_result",
     "data": {
      "text/plain": [
       "(12740, 13)"
      ]
     },
     "metadata": {},
     "execution_count": 27
    }
   ],
   "metadata": {
    "ExecuteTime": {
     "end_time": "2021-09-25T14:01:52.058447Z",
     "start_time": "2021-09-25T14:01:52.042530Z"
    },
    "scrolled": false
   }
  },
  {
   "cell_type": "code",
   "execution_count": 28,
   "source": [
    "X= df_over_input.drop(['Exited'],axis='columns')\n",
    "y= df_over_input.Exited\n",
    "X.shape, y.shape"
   ],
   "outputs": [
    {
     "output_type": "execute_result",
     "data": {
      "text/plain": [
       "((12740, 12), (12740,))"
      ]
     },
     "metadata": {},
     "execution_count": 28
    }
   ],
   "metadata": {
    "ExecuteTime": {
     "end_time": "2021-09-25T14:01:52.076164Z",
     "start_time": "2021-09-25T14:01:52.063600Z"
    },
    "scrolled": false
   }
  },
  {
   "cell_type": "code",
   "execution_count": 29,
   "source": [
    "y_pred_over =  ANN(X,y,X_test,y_test,'binary_crossentropy',-1,20)"
   ],
   "outputs": [
    {
     "output_type": "stream",
     "name": "stdout",
     "text": [
      "Epoch 1/20\n",
      "399/399 [==============================] - 0s 930us/step - loss: 46.0417 - accuracy: 0.5100\n",
      "Epoch 2/20\n",
      "399/399 [==============================] - 0s 818us/step - loss: 0.7623 - accuracy: 0.5307\n",
      "Epoch 3/20\n",
      "399/399 [==============================] - 0s 769us/step - loss: 0.7842 - accuracy: 0.5357\n",
      "Epoch 4/20\n",
      "399/399 [==============================] - 0s 902us/step - loss: 0.7735 - accuracy: 0.5585\n",
      "Epoch 5/20\n",
      "399/399 [==============================] - 0s 900us/step - loss: 0.8142 - accuracy: 0.5491\n",
      "Epoch 6/20\n",
      "399/399 [==============================] - 0s 976us/step - loss: 0.7376 - accuracy: 0.5712\n",
      "Epoch 7/20\n",
      "399/399 [==============================] - 0s 780us/step - loss: 0.8444 - accuracy: 0.5646\n",
      "Epoch 8/20\n",
      "399/399 [==============================] - 0s 992us/step - loss: 0.8147 - accuracy: 0.5767\n",
      "Epoch 9/20\n",
      "399/399 [==============================] - 0s 814us/step - loss: 0.7240 - accuracy: 0.5948\n",
      "Epoch 10/20\n",
      "399/399 [==============================] - 0s 1ms/step - loss: 0.8556 - accuracy: 0.5781\n",
      "Epoch 11/20\n",
      "399/399 [==============================] - 0s 825us/step - loss: 0.7760 - accuracy: 0.5842\n",
      "Epoch 12/20\n",
      "399/399 [==============================] - 0s 837us/step - loss: 0.7560 - accuracy: 0.5956\n",
      "Epoch 13/20\n",
      "399/399 [==============================] - 0s 756us/step - loss: 0.8128 - accuracy: 0.5823\n",
      "Epoch 14/20\n",
      "399/399 [==============================] - 0s 752us/step - loss: 0.7576 - accuracy: 0.5927\n",
      "Epoch 15/20\n",
      "399/399 [==============================] - 0s 777us/step - loss: 0.7675 - accuracy: 0.5968\n",
      "Epoch 16/20\n",
      "399/399 [==============================] - 0s 794us/step - loss: 0.7278 - accuracy: 0.6081\n",
      "Epoch 17/20\n",
      "399/399 [==============================] - 0s 774us/step - loss: 0.6940 - accuracy: 0.6173\n",
      "Epoch 18/20\n",
      "399/399 [==============================] - 0s 777us/step - loss: 0.6946 - accuracy: 0.6170\n",
      "Epoch 19/20\n",
      "399/399 [==============================] - 0s 814us/step - loss: 0.7467 - accuracy: 0.6078\n",
      "Epoch 20/20\n",
      "399/399 [==============================] - 0s 823us/step - loss: 0.7502 - accuracy: 0.6099\n",
      "63/63 [==============================] - 0s 753us/step - loss: 0.5201 - accuracy: 0.7740\n",
      "[0.5200784206390381, 0.7739999890327454]\n",
      "classification report: \n",
      "                precision    recall  f1-score   support\n",
      "\n",
      "           0       0.82      0.92      0.87      1593\n",
      "           1       0.40      0.22      0.28       407\n",
      "\n",
      "    accuracy                           0.77      2000\n",
      "   macro avg       0.61      0.57      0.58      2000\n",
      "weighted avg       0.74      0.77      0.75      2000\n",
      "\n"
     ]
    }
   ],
   "metadata": {
    "ExecuteTime": {
     "end_time": "2021-09-25T14:01:59.691350Z",
     "start_time": "2021-09-25T14:01:52.080272Z"
    },
    "scrolled": true
   }
  },
  {
   "cell_type": "markdown",
   "source": [
    "# Method 3: Using SMOTE"
   ],
   "metadata": {}
  },
  {
   "cell_type": "markdown",
   "source": [
    "## For this we are using the DS created in standard model"
   ],
   "metadata": {}
  },
  {
   "cell_type": "code",
   "execution_count": 30,
   "source": [
    "from imblearn.over_sampling import SMOTE\n",
    "\n",
    "smote = SMOTE(sampling_strategy='minority', n_jobs=2)"
   ],
   "outputs": [],
   "metadata": {
    "ExecuteTime": {
     "end_time": "2021-09-25T14:01:59.923977Z",
     "start_time": "2021-09-25T14:01:59.693467Z"
    },
    "scrolled": false
   }
  },
  {
   "cell_type": "code",
   "execution_count": 31,
   "source": [
    "X_sm,y_sm = smote.fit_resample(X_train,y_train)\n",
    "y_sm.value_counts()"
   ],
   "outputs": [
    {
     "output_type": "execute_result",
     "data": {
      "text/plain": [
       "0    6370\n",
       "1    6370\n",
       "Name: Exited, dtype: int64"
      ]
     },
     "metadata": {},
     "execution_count": 31
    }
   ],
   "metadata": {
    "ExecuteTime": {
     "end_time": "2021-09-25T14:01:59.957671Z",
     "start_time": "2021-09-25T14:01:59.926652Z"
    },
    "scrolled": true
   }
  },
  {
   "cell_type": "code",
   "execution_count": 32,
   "source": [
    "y_pred_sm = ANN(X_sm,y_sm,X_test,y_test,'binary_crossentropy',-1,20)"
   ],
   "outputs": [
    {
     "output_type": "stream",
     "name": "stdout",
     "text": [
      "Epoch 1/20\n",
      "399/399 [==============================] - 0s 1ms/step - loss: 4.2306 - accuracy: 0.5252\n",
      "Epoch 2/20\n",
      "399/399 [==============================] - 0s 955us/step - loss: 0.7892 - accuracy: 0.5521\n",
      "Epoch 3/20\n",
      "399/399 [==============================] - 0s 830us/step - loss: 0.7773 - accuracy: 0.5728\n",
      "Epoch 4/20\n",
      "399/399 [==============================] - 0s 824us/step - loss: 0.7518 - accuracy: 0.5999\n",
      "Epoch 5/20\n",
      "399/399 [==============================] - 0s 771us/step - loss: 0.7320 - accuracy: 0.6194\n",
      "Epoch 6/20\n",
      "399/399 [==============================] - 0s 973us/step - loss: 0.7288 - accuracy: 0.6041\n",
      "Epoch 7/20\n",
      "399/399 [==============================] - 0s 861us/step - loss: 0.6962 - accuracy: 0.6447\n",
      "Epoch 8/20\n",
      "399/399 [==============================] - 0s 978us/step - loss: 0.6820 - accuracy: 0.6459\n",
      "Epoch 9/20\n",
      "399/399 [==============================] - 0s 779us/step - loss: 0.6874 - accuracy: 0.6502\n",
      "Epoch 10/20\n",
      "399/399 [==============================] - 0s 782us/step - loss: 0.6842 - accuracy: 0.6491\n",
      "Epoch 11/20\n",
      "399/399 [==============================] - 0s 758us/step - loss: 0.6498 - accuracy: 0.6742\n",
      "Epoch 12/20\n",
      "399/399 [==============================] - 0s 789us/step - loss: 0.6218 - accuracy: 0.6767\n",
      "Epoch 13/20\n",
      "399/399 [==============================] - 0s 787us/step - loss: 0.6555 - accuracy: 0.6795\n",
      "Epoch 14/20\n",
      "399/399 [==============================] - 0s 737us/step - loss: 0.6230 - accuracy: 0.6900\n",
      "Epoch 15/20\n",
      "399/399 [==============================] - 0s 728us/step - loss: 0.6409 - accuracy: 0.6862\n",
      "Epoch 16/20\n",
      "399/399 [==============================] - 0s 983us/step - loss: 0.6362 - accuracy: 0.6865\n",
      "Epoch 17/20\n",
      "399/399 [==============================] - 0s 774us/step - loss: 0.6302 - accuracy: 0.6897\n",
      "Epoch 18/20\n",
      "399/399 [==============================] - 0s 755us/step - loss: 0.6360 - accuracy: 0.6802\n",
      "Epoch 19/20\n",
      "399/399 [==============================] - 0s 749us/step - loss: 0.6413 - accuracy: 0.6928\n",
      "Epoch 20/20\n",
      "399/399 [==============================] - 0s 745us/step - loss: 0.6423 - accuracy: 0.6897\n",
      "63/63 [==============================] - 0s 641us/step - loss: 0.7499 - accuracy: 0.5670\n",
      "[0.7499382495880127, 0.5669999718666077]\n",
      "classification report: \n",
      "                precision    recall  f1-score   support\n",
      "\n",
      "           0       0.87      0.54      0.67      1593\n",
      "           1       0.27      0.67      0.39       407\n",
      "\n",
      "    accuracy                           0.57      2000\n",
      "   macro avg       0.57      0.61      0.53      2000\n",
      "weighted avg       0.75      0.57      0.61      2000\n",
      "\n"
     ]
    }
   ],
   "metadata": {
    "ExecuteTime": {
     "end_time": "2021-09-25T14:02:07.456234Z",
     "start_time": "2021-09-25T14:01:59.959545Z"
    },
    "scrolled": true
   }
  },
  {
   "cell_type": "markdown",
   "source": [
    "# Method 4: Ensemble with undersampling using count DS from Method 1"
   ],
   "metadata": {}
  },
  {
   "cell_type": "code",
   "execution_count": 33,
   "source": [
    "X_train.shape , y_train.shape ,X_test.shape ,y_test.shape"
   ],
   "outputs": [
    {
     "output_type": "execute_result",
     "data": {
      "text/plain": [
       "((8000, 12), (8000,), (2000, 12), (2000,))"
      ]
     },
     "metadata": {},
     "execution_count": 33
    }
   ],
   "metadata": {
    "ExecuteTime": {
     "end_time": "2021-09-25T14:02:07.464942Z",
     "start_time": "2021-09-25T14:02:07.458342Z"
    }
   }
  },
  {
   "cell_type": "code",
   "execution_count": 34,
   "source": [
    "y_train.value_counts(),  y_test.value_counts()"
   ],
   "outputs": [
    {
     "output_type": "execute_result",
     "data": {
      "text/plain": [
       "(0    6370\n",
       " 1    1630\n",
       " Name: Exited, dtype: int64,\n",
       " 0    1593\n",
       " 1     407\n",
       " Name: Exited, dtype: int64)"
      ]
     },
     "metadata": {},
     "execution_count": 34
    }
   ],
   "metadata": {
    "ExecuteTime": {
     "end_time": "2021-09-25T14:02:07.488041Z",
     "start_time": "2021-09-25T14:02:07.466739Z"
    },
    "scrolled": false
   }
  },
  {
   "cell_type": "code",
   "execution_count": 35,
   "source": [
    "count_exited_0.shape, count_exited_1.shape"
   ],
   "outputs": [
    {
     "output_type": "execute_result",
     "data": {
      "text/plain": [
       "((6370, 13), (1630, 13))"
      ]
     },
     "metadata": {},
     "execution_count": 35
    }
   ],
   "metadata": {
    "ExecuteTime": {
     "end_time": "2021-09-25T14:02:07.508621Z",
     "start_time": "2021-09-25T14:02:07.489911Z"
    }
   }
  },
  {
   "cell_type": "code",
   "execution_count": 36,
   "source": [
    "count_exited_0.Exited.value_counts(), count_exited_1.Exited.value_counts()"
   ],
   "outputs": [
    {
     "output_type": "execute_result",
     "data": {
      "text/plain": [
       "(0    6370\n",
       " Name: Exited, dtype: int64,\n",
       " 1    1630\n",
       " Name: Exited, dtype: int64)"
      ]
     },
     "metadata": {},
     "execution_count": 36
    }
   ],
   "metadata": {
    "ExecuteTime": {
     "end_time": "2021-09-25T14:02:07.526678Z",
     "start_time": "2021-09-25T14:02:07.511605Z"
    },
    "scrolled": true
   }
  },
  {
   "cell_type": "code",
   "execution_count": 37,
   "source": [
    "6370/1630"
   ],
   "outputs": [
    {
     "output_type": "execute_result",
     "data": {
      "text/plain": [
       "3.9079754601226995"
      ]
     },
     "metadata": {},
     "execution_count": 37
    }
   ],
   "metadata": {
    "ExecuteTime": {
     "end_time": "2021-09-25T14:02:07.539487Z",
     "start_time": "2021-09-25T14:02:07.529027Z"
    }
   }
  },
  {
   "cell_type": "code",
   "execution_count": 38,
   "source": [
    "def get_train_batch(df_majority,df_minority,start,end):\n",
    "        df_train = pd.concat([df_majority[start:end],df_minority], axis=0)\n",
    "        X_train = df_train.drop(['Exited'],axis='columns')\n",
    "        y_train= df_train.Exited\n",
    "        \n",
    "        return X_train,y_train\n",
    "    "
   ],
   "outputs": [],
   "metadata": {
    "ExecuteTime": {
     "end_time": "2021-09-25T14:02:07.552208Z",
     "start_time": "2021-09-25T14:02:07.544872Z"
    }
   }
  },
  {
   "cell_type": "code",
   "execution_count": 39,
   "source": [
    "X_train,y_train = get_train_batch(count_exited_0,count_exited_1,0,1630)\n",
    "\n",
    "X_train.shape , y_train.shape"
   ],
   "outputs": [
    {
     "output_type": "execute_result",
     "data": {
      "text/plain": [
       "((3260, 12), (3260,))"
      ]
     },
     "metadata": {},
     "execution_count": 39
    }
   ],
   "metadata": {
    "ExecuteTime": {
     "end_time": "2021-09-25T14:02:07.576231Z",
     "start_time": "2021-09-25T14:02:07.554827Z"
    }
   }
  },
  {
   "cell_type": "code",
   "execution_count": 40,
   "source": [
    "y_pred_ens_1 = ANN(X_train, y_train, X_test, y_test, 'binary_crossentropy', -1, 20)"
   ],
   "outputs": [
    {
     "output_type": "stream",
     "name": "stdout",
     "text": [
      "Epoch 1/20\n",
      "102/102 [==============================] - 0s 1ms/step - loss: 20.4231 - accuracy: 0.4957\n",
      "Epoch 2/20\n",
      "102/102 [==============================] - 0s 1ms/step - loss: 1.1686 - accuracy: 0.4813\n",
      "Epoch 3/20\n",
      "102/102 [==============================] - 0s 987us/step - loss: 1.0100 - accuracy: 0.4954\n",
      "Epoch 4/20\n",
      "102/102 [==============================] - 0s 961us/step - loss: 0.9187 - accuracy: 0.5006\n",
      "Epoch 5/20\n",
      "102/102 [==============================] - 0s 1ms/step - loss: 1.8966 - accuracy: 0.4975\n",
      "Epoch 6/20\n",
      "102/102 [==============================] - 0s 1ms/step - loss: 1.3437 - accuracy: 0.5037\n",
      "Epoch 7/20\n",
      "102/102 [==============================] - 0s 1ms/step - loss: 1.1676 - accuracy: 0.5120\n",
      "Epoch 8/20\n",
      "102/102 [==============================] - 0s 924us/step - loss: 1.1986 - accuracy: 0.5040\n",
      "Epoch 9/20\n",
      "102/102 [==============================] - 0s 981us/step - loss: 1.1449 - accuracy: 0.4963\n",
      "Epoch 10/20\n",
      "102/102 [==============================] - 0s 1ms/step - loss: 1.2054 - accuracy: 0.5077\n",
      "Epoch 11/20\n",
      "102/102 [==============================] - 0s 949us/step - loss: 0.9568 - accuracy: 0.5144\n",
      "Epoch 12/20\n",
      "102/102 [==============================] - 0s 863us/step - loss: 0.9640 - accuracy: 0.5331\n",
      "Epoch 13/20\n",
      "102/102 [==============================] - 0s 853us/step - loss: 1.6386 - accuracy: 0.5325\n",
      "Epoch 14/20\n",
      "102/102 [==============================] - 0s 805us/step - loss: 1.1959 - accuracy: 0.5264\n",
      "Epoch 15/20\n",
      "102/102 [==============================] - 0s 817us/step - loss: 1.3340 - accuracy: 0.5224\n",
      "Epoch 16/20\n",
      "102/102 [==============================] - 0s 1ms/step - loss: 1.1321 - accuracy: 0.5160\n",
      "Epoch 17/20\n",
      "102/102 [==============================] - 0s 1ms/step - loss: 1.2365 - accuracy: 0.5255\n",
      "Epoch 18/20\n",
      "102/102 [==============================] - 0s 847us/step - loss: 1.5869 - accuracy: 0.5331\n",
      "Epoch 19/20\n",
      "102/102 [==============================] - 0s 853us/step - loss: 1.0729 - accuracy: 0.5261\n",
      "Epoch 20/20\n",
      "102/102 [==============================] - 0s 1ms/step - loss: 1.1967 - accuracy: 0.5396\n",
      "63/63 [==============================] - 0s 777us/step - loss: 0.7139 - accuracy: 0.5120\n",
      "[0.7139105200767517, 0.5120000243186951]\n",
      "classification report: \n",
      "                precision    recall  f1-score   support\n",
      "\n",
      "           0       0.87      0.45      0.60      1593\n",
      "           1       0.26      0.74      0.38       407\n",
      "\n",
      "    accuracy                           0.51      2000\n",
      "   macro avg       0.57      0.60      0.49      2000\n",
      "weighted avg       0.75      0.51      0.55      2000\n",
      "\n"
     ]
    }
   ],
   "metadata": {
    "ExecuteTime": {
     "end_time": "2021-09-25T14:02:10.536276Z",
     "start_time": "2021-09-25T14:02:07.578180Z"
    }
   }
  },
  {
   "cell_type": "code",
   "execution_count": 41,
   "source": [
    "X_train,y_train = get_train_batch(count_exited_0,count_exited_1,1630,3260)\n",
    "\n",
    "X_train.shape , y_train.shape"
   ],
   "outputs": [
    {
     "output_type": "execute_result",
     "data": {
      "text/plain": [
       "((3260, 12), (3260,))"
      ]
     },
     "metadata": {},
     "execution_count": 41
    }
   ],
   "metadata": {
    "ExecuteTime": {
     "end_time": "2021-09-25T14:02:10.551910Z",
     "start_time": "2021-09-25T14:02:10.538946Z"
    }
   }
  },
  {
   "cell_type": "code",
   "execution_count": 42,
   "source": [
    "y_pred_ens_2 = ANN(X_train, y_train, X_test, y_test, 'binary_crossentropy', -1, 20)"
   ],
   "outputs": [
    {
     "output_type": "stream",
     "name": "stdout",
     "text": [
      "Epoch 1/20\n",
      "102/102 [==============================] - 0s 1ms/step - loss: 566.3564 - accuracy: 0.5000\n",
      "Epoch 2/20\n",
      "102/102 [==============================] - 0s 930us/step - loss: 41.4168 - accuracy: 0.5058\n",
      "Epoch 3/20\n",
      "102/102 [==============================] - 0s 908us/step - loss: 0.7499 - accuracy: 0.5095\n",
      "Epoch 4/20\n",
      "102/102 [==============================] - 0s 950us/step - loss: 0.7174 - accuracy: 0.5239\n",
      "Epoch 5/20\n",
      "102/102 [==============================] - 0s 892us/step - loss: 0.7296 - accuracy: 0.5163\n",
      "Epoch 6/20\n",
      "102/102 [==============================] - 0s 1ms/step - loss: 0.7070 - accuracy: 0.5175\n",
      "Epoch 7/20\n",
      "102/102 [==============================] - 0s 1ms/step - loss: 0.7145 - accuracy: 0.5178\n",
      "Epoch 8/20\n",
      "102/102 [==============================] - 0s 873us/step - loss: 0.7460 - accuracy: 0.5199\n",
      "Epoch 9/20\n",
      "102/102 [==============================] - ETA: 0s - loss: 0.7233 - accuracy: 0.52 - 0s 1ms/step - loss: 0.7223 - accuracy: 0.5242\n",
      "Epoch 10/20\n",
      "102/102 [==============================] - 0s 1ms/step - loss: 0.7368 - accuracy: 0.5181\n",
      "Epoch 11/20\n",
      "102/102 [==============================] - 0s 1ms/step - loss: 0.7495 - accuracy: 0.5113\n",
      "Epoch 12/20\n",
      "102/102 [==============================] - 0s 899us/step - loss: 0.7208 - accuracy: 0.5261\n",
      "Epoch 13/20\n",
      "102/102 [==============================] - 0s 1ms/step - loss: 0.7404 - accuracy: 0.5255\n",
      "Epoch 14/20\n",
      "102/102 [==============================] - 0s 1ms/step - loss: 0.7453 - accuracy: 0.5209\n",
      "Epoch 15/20\n",
      "102/102 [==============================] - 0s 999us/step - loss: 0.7427 - accuracy: 0.5138\n",
      "Epoch 16/20\n",
      "102/102 [==============================] - 0s 838us/step - loss: 0.7171 - accuracy: 0.5141\n",
      "Epoch 17/20\n",
      "102/102 [==============================] - 0s 1ms/step - loss: 0.7373 - accuracy: 0.5058\n",
      "Epoch 18/20\n",
      "102/102 [==============================] - 0s 1ms/step - loss: 0.7565 - accuracy: 0.5276\n",
      "Epoch 19/20\n",
      "102/102 [==============================] - 0s 886us/step - loss: 0.7309 - accuracy: 0.5206\n",
      "Epoch 20/20\n",
      "102/102 [==============================] - 0s 970us/step - loss: 0.7077 - accuracy: 0.5319\n",
      "63/63 [==============================] - 0s 870us/step - loss: 0.7179 - accuracy: 0.2805\n",
      "[0.717944860458374, 0.28049999475479126]\n",
      "classification report: \n",
      "                precision    recall  f1-score   support\n",
      "\n",
      "           0       0.92      0.11      0.19      1593\n",
      "           1       0.22      0.96      0.35       407\n",
      "\n",
      "    accuracy                           0.28      2000\n",
      "   macro avg       0.57      0.53      0.27      2000\n",
      "weighted avg       0.78      0.28      0.22      2000\n",
      "\n"
     ]
    }
   ],
   "metadata": {
    "ExecuteTime": {
     "end_time": "2021-09-25T14:02:13.633533Z",
     "start_time": "2021-09-25T14:02:10.553834Z"
    }
   }
  },
  {
   "cell_type": "code",
   "execution_count": 43,
   "source": [
    "X_train,y_train = get_train_batch(count_exited_0,count_exited_1,3260,4890)\n",
    "\n",
    "X_train.shape , y_train.shape"
   ],
   "outputs": [
    {
     "output_type": "execute_result",
     "data": {
      "text/plain": [
       "((3260, 12), (3260,))"
      ]
     },
     "metadata": {},
     "execution_count": 43
    }
   ],
   "metadata": {
    "ExecuteTime": {
     "end_time": "2021-09-25T14:02:13.650585Z",
     "start_time": "2021-09-25T14:02:13.636471Z"
    }
   }
  },
  {
   "cell_type": "code",
   "execution_count": 44,
   "source": [
    "y_pred_ens_3 = ANN(X_train, y_train, X_test, y_test, 'binary_crossentropy', -1, 20)"
   ],
   "outputs": [
    {
     "output_type": "stream",
     "name": "stdout",
     "text": [
      "Epoch 1/20\n",
      "102/102 [==============================] - 0s 823us/step - loss: 174.4783 - accuracy: 0.4859\n",
      "Epoch 2/20\n",
      "102/102 [==============================] - 0s 852us/step - loss: 1.5529 - accuracy: 0.5034\n",
      "Epoch 3/20\n",
      "102/102 [==============================] - 0s 831us/step - loss: 2.0494 - accuracy: 0.4988\n",
      "Epoch 4/20\n",
      "102/102 [==============================] - 0s 973us/step - loss: 3.1638 - accuracy: 0.4923\n",
      "Epoch 5/20\n",
      "102/102 [==============================] - 0s 855us/step - loss: 1.4835 - accuracy: 0.5233\n",
      "Epoch 6/20\n",
      "102/102 [==============================] - 0s 954us/step - loss: 1.6641 - accuracy: 0.5015\n",
      "Epoch 7/20\n",
      "102/102 [==============================] - 0s 962us/step - loss: 1.8190 - accuracy: 0.5206\n",
      "Epoch 8/20\n",
      "102/102 [==============================] - 0s 822us/step - loss: 1.6576 - accuracy: 0.5215\n",
      "Epoch 9/20\n",
      "102/102 [==============================] - 0s 944us/step - loss: 1.6222 - accuracy: 0.5193\n",
      "Epoch 10/20\n",
      "102/102 [==============================] - 0s 1ms/step - loss: 1.3914 - accuracy: 0.5319\n",
      "Epoch 11/20\n",
      "102/102 [==============================] - 0s 945us/step - loss: 1.1052 - accuracy: 0.5423\n",
      "Epoch 12/20\n",
      "102/102 [==============================] - 0s 838us/step - loss: 1.2780 - accuracy: 0.5393\n",
      "Epoch 13/20\n",
      "102/102 [==============================] - 0s 831us/step - loss: 2.9342 - accuracy: 0.5117\n",
      "Epoch 14/20\n",
      "102/102 [==============================] - 0s 821us/step - loss: 1.5154 - accuracy: 0.5255\n",
      "Epoch 15/20\n",
      "102/102 [==============================] - 0s 882us/step - loss: 1.2788 - accuracy: 0.5399\n",
      "Epoch 16/20\n",
      "102/102 [==============================] - 0s 862us/step - loss: 2.4391 - accuracy: 0.5258\n",
      "Epoch 17/20\n",
      "102/102 [==============================] - 0s 1ms/step - loss: 1.2449 - accuracy: 0.5684\n",
      "Epoch 18/20\n",
      "102/102 [==============================] - 0s 1ms/step - loss: 1.7708 - accuracy: 0.5298\n",
      "Epoch 19/20\n",
      "102/102 [==============================] - 0s 966us/step - loss: 2.3767 - accuracy: 0.5328\n",
      "Epoch 20/20\n",
      "102/102 [==============================] - 0s 912us/step - loss: 1.6571 - accuracy: 0.5377\n",
      "63/63 [==============================] - 0s 1ms/step - loss: 0.9911 - accuracy: 0.3710\n",
      "[0.991060733795166, 0.3709999918937683]\n",
      "classification report: \n",
      "                precision    recall  f1-score   support\n",
      "\n",
      "           0       0.91      0.23      0.37      1593\n",
      "           1       0.23      0.91      0.37       407\n",
      "\n",
      "    accuracy                           0.37      2000\n",
      "   macro avg       0.57      0.57      0.37      2000\n",
      "weighted avg       0.77      0.37      0.37      2000\n",
      "\n"
     ]
    }
   ],
   "metadata": {
    "ExecuteTime": {
     "end_time": "2021-09-25T14:02:16.497599Z",
     "start_time": "2021-09-25T14:02:13.653300Z"
    }
   }
  },
  {
   "cell_type": "code",
   "execution_count": 45,
   "source": [
    "X_train,y_train = get_train_batch(count_exited_0,count_exited_1,4890,6371)\n",
    "\n",
    "X_train.shape , y_train.shape"
   ],
   "outputs": [
    {
     "output_type": "execute_result",
     "data": {
      "text/plain": [
       "((3110, 12), (3110,))"
      ]
     },
     "metadata": {},
     "execution_count": 45
    }
   ],
   "metadata": {
    "ExecuteTime": {
     "end_time": "2021-09-25T14:02:16.512253Z",
     "start_time": "2021-09-25T14:02:16.499913Z"
    }
   }
  },
  {
   "cell_type": "code",
   "execution_count": 46,
   "source": [
    "y_pred_ens_4 = ANN(X_train, y_train, X_test, y_test, 'binary_crossentropy', -1, 20)"
   ],
   "outputs": [
    {
     "output_type": "stream",
     "name": "stdout",
     "text": [
      "Epoch 1/20\n",
      "98/98 [==============================] - 0s 901us/step - loss: 27.1696 - accuracy: 0.4939\n",
      "Epoch 2/20\n",
      "98/98 [==============================] - 0s 992us/step - loss: 1.1562 - accuracy: 0.5006\n",
      "Epoch 3/20\n",
      "98/98 [==============================] - 0s 1ms/step - loss: 0.9208 - accuracy: 0.5254\n",
      "Epoch 4/20\n",
      "98/98 [==============================] - 0s 1ms/step - loss: 0.9514 - accuracy: 0.5305\n",
      "Epoch 5/20\n",
      "98/98 [==============================] - 0s 1ms/step - loss: 0.8805 - accuracy: 0.5196\n",
      "Epoch 6/20\n",
      "98/98 [==============================] - 0s 914us/step - loss: 1.6257 - accuracy: 0.5058\n",
      "Epoch 7/20\n",
      "98/98 [==============================] - 0s 824us/step - loss: 1.4842 - accuracy: 0.4965\n",
      "Epoch 8/20\n",
      "98/98 [==============================] - 0s 823us/step - loss: 1.1759 - accuracy: 0.5225\n",
      "Epoch 9/20\n",
      "98/98 [==============================] - 0s 889us/step - loss: 1.0699 - accuracy: 0.5289\n",
      "Epoch 10/20\n",
      "98/98 [==============================] - 0s 830us/step - loss: 0.9642 - accuracy: 0.5386\n",
      "Epoch 11/20\n",
      "98/98 [==============================] - 0s 967us/step - loss: 0.8191 - accuracy: 0.5357\n",
      "Epoch 12/20\n",
      "98/98 [==============================] - 0s 1ms/step - loss: 1.6284 - accuracy: 0.5273\n",
      "Epoch 13/20\n",
      "98/98 [==============================] - 0s 1ms/step - loss: 1.0984 - accuracy: 0.5344\n",
      "Epoch 14/20\n",
      "98/98 [==============================] - 0s 748us/step - loss: 1.0056 - accuracy: 0.5347\n",
      "Epoch 15/20\n",
      "98/98 [==============================] - 0s 1ms/step - loss: 0.7821 - accuracy: 0.5524\n",
      "Epoch 16/20\n",
      "98/98 [==============================] - 0s 1ms/step - loss: 0.9736 - accuracy: 0.5592\n",
      "Epoch 17/20\n",
      "98/98 [==============================] - 0s 1ms/step - loss: 1.2501 - accuracy: 0.5315\n",
      "Epoch 18/20\n",
      "98/98 [==============================] - 0s 847us/step - loss: 1.4232 - accuracy: 0.5283\n",
      "Epoch 19/20\n",
      "98/98 [==============================] - 0s 979us/step - loss: 0.8268 - accuracy: 0.5608\n",
      "Epoch 20/20\n",
      "98/98 [==============================] - 0s 991us/step - loss: 1.6929 - accuracy: 0.5370\n",
      "63/63 [==============================] - 0s 859us/step - loss: 0.6084 - accuracy: 0.7890\n",
      "[0.6084357500076294, 0.7889999747276306]\n",
      "classification report: \n",
      "                precision    recall  f1-score   support\n",
      "\n",
      "           0       0.80      0.97      0.88      1593\n",
      "           1       0.40      0.07      0.12       407\n",
      "\n",
      "    accuracy                           0.79      2000\n",
      "   macro avg       0.60      0.52      0.50      2000\n",
      "weighted avg       0.72      0.79      0.73      2000\n",
      "\n"
     ]
    }
   ],
   "metadata": {
    "ExecuteTime": {
     "end_time": "2021-09-25T14:02:19.426887Z",
     "start_time": "2021-09-25T14:02:16.514490Z"
    }
   }
  },
  {
   "cell_type": "code",
   "execution_count": 47,
   "source": [
    "y_pred_final= y_pred_ens_1.copy()\n",
    "\n",
    "for i in range(len(y_pred_ens_1)):\n",
    "    n_ones = y_pred_ens_1[i]+y_pred_ens_2[i]+y_pred_ens_3[i]+y_pred_ens_4[i]\n",
    "\n",
    "    if n_ones >1:\n",
    "        y_pred_final[i]=1\n",
    "    else:\n",
    "        y_pred_final[i]=0"
   ],
   "outputs": [],
   "metadata": {
    "ExecuteTime": {
     "end_time": "2021-09-25T14:02:19.451839Z",
     "start_time": "2021-09-25T14:02:19.431043Z"
    }
   }
  },
  {
   "cell_type": "code",
   "execution_count": 48,
   "source": [
    "print(classification_report(y_test,y_pred_final))"
   ],
   "outputs": [
    {
     "output_type": "stream",
     "name": "stdout",
     "text": [
      "              precision    recall  f1-score   support\n",
      "\n",
      "           0       0.91      0.26      0.40      1593\n",
      "           1       0.24      0.90      0.37       407\n",
      "\n",
      "    accuracy                           0.39      2000\n",
      "   macro avg       0.57      0.58      0.39      2000\n",
      "weighted avg       0.77      0.39      0.40      2000\n",
      "\n"
     ]
    }
   ],
   "metadata": {
    "ExecuteTime": {
     "end_time": "2021-09-25T14:02:19.490550Z",
     "start_time": "2021-09-25T14:02:19.459826Z"
    }
   }
  },
  {
   "cell_type": "code",
   "execution_count": null,
   "source": [],
   "outputs": [],
   "metadata": {}
  }
 ],
 "metadata": {
  "interpreter": {
   "hash": "df0893f56f349688326838aaeea0de204df53a132722cbd565e54b24a8fec5f6"
  },
  "kernelspec": {
   "name": "python3",
   "display_name": "Python 3.8.7 64-bit"
  },
  "language_info": {
   "codemirror_mode": {
    "name": "ipython",
    "version": 3
   },
   "file_extension": ".py",
   "mimetype": "text/x-python",
   "name": "python",
   "nbconvert_exporter": "python",
   "pygments_lexer": "ipython3",
   "version": "3.8.7"
  },
  "varInspector": {
   "cols": {
    "lenName": 16,
    "lenType": 16,
    "lenVar": 40
   },
   "kernels_config": {
    "python": {
     "delete_cmd_postfix": "",
     "delete_cmd_prefix": "del ",
     "library": "var_list.py",
     "varRefreshCmd": "print(var_dic_list())"
    },
    "r": {
     "delete_cmd_postfix": ") ",
     "delete_cmd_prefix": "rm(",
     "library": "var_list.r",
     "varRefreshCmd": "cat(var_dic_list()) "
    }
   },
   "types_to_exclude": [
    "module",
    "function",
    "builtin_function_or_method",
    "instance",
    "_Feature"
   ],
   "window_display": false
  }
 },
 "nbformat": 4,
 "nbformat_minor": 2
}