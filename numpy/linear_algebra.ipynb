{
 "cells": [
  {
   "cell_type": "code",
   "execution_count": 5,
   "metadata": {},
   "outputs": [],
   "source": [
    "# Importing numpy as np\n",
    "import numpy as np"
   ]
  },
  {
   "cell_type": "markdown",
   "metadata": {},
   "source": [
    "### Define Matrices"
   ]
  },
  {
   "cell_type": "code",
   "execution_count": 6,
   "metadata": {},
   "outputs": [
    {
     "name": "stdout",
     "output_type": "stream",
     "text": [
      "Matrix A: \n",
      "[[ 5  2  1]\n",
      " [ 7  5 -3]] \n",
      " shape: (2, 3)\n",
      "Matrix B: \n",
      "[[ 4 -1]\n",
      " [ 6  5]\n",
      " [-4  3]] \n",
      " shape: (3, 2)\n"
     ]
    }
   ],
   "source": [
    "A = np.array([[5, 2, 1],\n",
    "              [7, 5, -3]])\n",
    "\n",
    "B = np.array([[4, -1],\n",
    "              [6, 5],\n",
    "              [-4, 3]])\n",
    "\n",
    "print(f'Matrix A: \\n{A} \\n shape: {A.shape}')\n",
    "print(f'Matrix B: \\n{B} \\n shape: {B.shape}')"
   ]
  },
  {
   "cell_type": "markdown",
   "metadata": {},
   "source": [
    "### Dot Product\n",
    "\n",
    "[Wikipedia Article](https://en.wikipedia.org/wiki/Dot_product)"
   ]
  },
  {
   "cell_type": "code",
   "execution_count": 7,
   "metadata": {},
   "outputs": [
    {
     "name": "stdout",
     "output_type": "stream",
     "text": [
      "Matrix A * Matrix B: \n",
      "[[28  8]\n",
      " [70  9]] \n",
      " shape: (2, 2)\n",
      "Matrix B * Matrix A: \n",
      "[[ 13   3   7]\n",
      " [ 65  37  -9]\n",
      " [  1   7 -13]] \n",
      " shape: (3, 3)\n"
     ]
    }
   ],
   "source": [
    "C = np.dot(A, B)\n",
    "\n",
    "print(f'Matrix A * Matrix B: \\n{C} \\n shape: {C.shape}')\n",
    "\n",
    "D = np.dot(B, A)\n",
    "\n",
    "print(f'Matrix B * Matrix A: \\n{D} \\n shape: {D.shape}')"
   ]
  },
  {
   "cell_type": "markdown",
   "metadata": {},
   "source": [
    "### Rank and Trace\n",
    "\n",
    "[Rank Wikipedia Article](https://en.wikipedia.org/wiki/Rank_(linear_algebra)k)\n",
    "\n",
    "[Trace Wikipedia Article](https://en.wikipedia.org/wiki/Trace_(linear_algebra))"
   ]
  },
  {
   "cell_type": "code",
   "execution_count": 9,
   "metadata": {},
   "outputs": [
    {
     "name": "stdout",
     "output_type": "stream",
     "text": [
      "Rank of A: 2\n",
      "Rank of B: 2\n",
      "\n",
      "Trace of C: 37\n",
      "Trace of D: 37\n"
     ]
    }
   ],
   "source": [
    "\n",
    "# Rank of a matrix\n",
    "print(\"Rank of A:\", np.linalg.matrix_rank(A))\n",
    "\n",
    "print(\"Rank of B:\", np.linalg.matrix_rank(B))\n",
    " \n",
    "# Trace of matrix A\n",
    "print(\"\\nTrace of C:\", np.trace(C))\n",
    "\n",
    "print(\"Trace of D:\", np.trace(D))\n",
    " "
   ]
  },
  {
   "cell_type": "markdown",
   "metadata": {},
   "source": [
    "### Determinant\n",
    "\n",
    "[Wikipedia Article](https://en.wikipedia.org/wiki/Determinant)"
   ]
  },
  {
   "cell_type": "code",
   "execution_count": 12,
   "metadata": {},
   "outputs": [
    {
     "name": "stdout",
     "output_type": "stream",
     "text": [
      "The determinant of the matrix C is -308.0000000000001\n",
      "The determinant of the matrix D is -7.425171588693042e-13\n"
     ]
    }
   ],
   "source": [
    "print(f'The determinant of the matrix C is {np.linalg.det(C)}')\n",
    "\n",
    "print(f'The determinant of the matrix D is {np.linalg.det(D)}')"
   ]
  },
  {
   "cell_type": "markdown",
   "metadata": {},
   "source": [
    "### Inverse "
   ]
  },
  {
   "cell_type": "code",
   "execution_count": 14,
   "metadata": {},
   "outputs": [
    {
     "name": "stdout",
     "output_type": "stream",
     "text": [
      "The inverse of the matrix C is \n",
      "[[-0.02922078  0.02597403]\n",
      " [ 0.22727273 -0.09090909]]\n",
      "The inverse of the matrix D is \n",
      "[[ 5.62949953e+14 -1.18515780e+14  3.85176284e+14]\n",
      " [-1.12589991e+15  2.37031559e+14 -7.70352568e+14]\n",
      " [-5.62949953e+14  1.18515780e+14 -3.85176284e+14]]\n"
     ]
    }
   ],
   "source": [
    "E = np.linalg.inv(C)\n",
    "\n",
    "print(f'The inverse of the matrix C is \\n{E}')\n",
    "\n",
    "print(f'The inverse of the matrix D is \\n{np.linalg.inv(D)}')"
   ]
  },
  {
   "cell_type": "markdown",
   "metadata": {},
   "source": [
    "Check that $C . C^{-1} = I$"
   ]
  },
  {
   "cell_type": "code",
   "execution_count": 15,
   "metadata": {},
   "outputs": [
    {
     "name": "stdout",
     "output_type": "stream",
     "text": [
      "[[1.0000000e+00 0.0000000e+00]\n",
      " [8.8817842e-16 1.0000000e+00]]\n"
     ]
    }
   ],
   "source": [
    "print(np.dot(C, E))"
   ]
  }
 ],
 "metadata": {
  "interpreter": {
   "hash": "07b8ba48c6b1c37428f3349cbe033e292e680a887979d8b278eda4013bc51cc8"
  },
  "kernelspec": {
   "display_name": "Python 3.9.5 ('base')",
   "language": "python",
   "name": "python3"
  },
  "language_info": {
   "codemirror_mode": {
    "name": "ipython",
    "version": 3
   },
   "file_extension": ".py",
   "mimetype": "text/x-python",
   "name": "python",
   "nbconvert_exporter": "python",
   "pygments_lexer": "ipython3",
   "version": "3.9.5"
  },
  "orig_nbformat": 4
 },
 "nbformat": 4,
 "nbformat_minor": 2
}
